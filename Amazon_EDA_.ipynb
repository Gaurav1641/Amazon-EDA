{
  "cells": [
    {
      "cell_type": "code",
      "execution_count": null,
      "id": "1c716ced-bcda-4538-ba6c-2a730a107902",
      "metadata": {
        "id": "1c716ced-bcda-4538-ba6c-2a730a107902"
      },
      "outputs": [],
      "source": [
        "import pandas as pd\n",
        "import matplotlib.pyplot as plt\n",
        "from collections import Counter"
      ]
    },
    {
      "cell_type": "code",
      "execution_count": null,
      "id": "d282a846-ca75-4374-b7b1-99f59e671a33",
      "metadata": {
        "id": "d282a846-ca75-4374-b7b1-99f59e671a33"
      },
      "outputs": [],
      "source": [
        "# Load the dataset\n",
        "file_path = r\"C:\\Users\\gaura\\Downloads\\amazon.csv\"\n",
        "data = pd.read_csv(file_path)"
      ]
    },
    {
      "cell_type": "code",
      "execution_count": null,
      "id": "1b00e2e0-cb67-4c1d-9c74-3ca43284ca32",
      "metadata": {
        "id": "1b00e2e0-cb67-4c1d-9c74-3ca43284ca32"
      },
      "outputs": [],
      "source": [
        "# Data Cleaning\n",
        "data['rating'] = pd.to_numeric(data['rating'], errors='coerce')\n",
        "data['rating_count'] = pd.to_numeric(data['rating_count'], errors='coerce')\n",
        "data['discounted_price'] = data['discounted_price'].str.replace('₹', '').str.replace(',', '').astype(float)\n",
        "data['actual_price'] = data['actual_price'].str.replace('₹', '').str.replace(',', '').astype(float)\n",
        "data['discount_percentage'] = data['discount_percentage'].str.replace('%', '').astype(float)\n",
        "\n",
        "# Remove rows with NaN values in 'category' or 'rating_count'\n",
        "data_clean = data.dropna(subset=['category', 'rating_count'])"
      ]
    },
    {
      "cell_type": "code",
      "execution_count": null,
      "id": "38ae158a-0719-41be-ab1b-862f2674beed",
      "metadata": {
        "id": "38ae158a-0719-41be-ab1b-862f2674beed",
        "outputId": "91392e5e-85ad-4205-eb05-7c0442ad87dc"
      },
      "outputs": [
        {
          "name": "stdout",
          "output_type": "stream",
          "text": [
            "\n",
            "Top Rating Count Products by Category:\n",
            "                                               category  \\\n",
            "900   Computers&Accessories|Accessories&Peripherals|...   \n",
            "32    Computers&Accessories|Accessories&Peripherals|...   \n",
            "743   Computers&Accessories|Accessories&Peripherals|...   \n",
            "653   Computers&Accessories|Accessories&Peripherals|...   \n",
            "940   Computers&Accessories|Accessories&Peripherals|...   \n",
            "...                                                 ...   \n",
            "1279  Home&Kitchen|Kitchen&HomeAppliances|Vacuum,Cle...   \n",
            "1317  Home&Kitchen|Kitchen&HomeAppliances|WaterPurif...   \n",
            "1424  Home&Kitchen|Kitchen&HomeAppliances|WaterPurif...   \n",
            "808   OfficeProducts|OfficePaperProducts|Paper|Copy&...   \n",
            "950   OfficeProducts|OfficePaperProducts|Paper|Stati...   \n",
            "\n",
            "                                           product_name  rating_count  \n",
            "900   Lapster USB 3.0 sata Cable for 2.5 inch SSD an...         817.0  \n",
            "32    Zoul USB C 60W Fast Charging 3A 6ft/2M Long Ty...         974.0  \n",
            "743   Amazon Basics Magic Slate 8.5-inch LCD Writing...         401.0  \n",
            "653   STRIFF Mpad Mouse Mat 230X190X3mm Gaming Mouse...         491.0  \n",
            "940   HP 330 Wireless Black Keyboard and Mouse Set w...         427.0  \n",
            "...                                                 ...           ...  \n",
            "1279  Eureka Forbes car Vac 100 Watts Powerful Sucti...         992.0  \n",
            "1317  Proven® Copper + Mineral RO+UV+UF 10 to 12 Lit...         535.0  \n",
            "1424         KENT POWP-Sediment Filter 10'' Thread WCAP         490.0  \n",
            "808   BRUSTRO Copytinta Coloured Craft Paper A4 Size...         388.0  \n",
            "950   Classmate Pulse 1 Subject Notebook - 240mm x 1...         419.0  \n",
            "\n",
            "[83 rows x 3 columns]\n"
          ]
        }
      ],
      "source": [
        "# 2. Top `rating_count` products by category\n",
        "top_products_by_category = data_clean.loc[data_clean.groupby('category')['rating_count'].idxmax()][['category', 'product_name', 'rating_count']]\n",
        "print(\"\\nTop Rating Count Products by Category:\")\n",
        "print(top_products_by_category)"
      ]
    },
    {
      "cell_type": "code",
      "execution_count": null,
      "id": "498d01c4-ea72-4791-8402-8ebe59249628",
      "metadata": {
        "id": "498d01c4-ea72-4791-8402-8ebe59249628",
        "outputId": "4d00a9aa-72af-4cfb-a005-f2dc91ab56b4"
      },
      "outputs": [
        {
          "data": {
            "image/png": "[encoded data removed]",
            "text/plain": [
              "<Figure size 1000x600 with 1 Axes>"
            ]
          },
          "metadata": {},
          "output_type": "display_data"
        }
      ],
      "source": [
        "# 3. Distribution of discounted prices vs. actual prices\n",
        "plt.figure(figsize=(10, 6))\n",
        "plt.hist(data_clean['discounted_price'].dropna(), bins=30, alpha=0.5, label='Discounted Price', color='blue')\n",
        "plt.hist(data_clean['actual_price'].dropna(), bins=30, alpha=0.5, label='Actual Price', color='orange')\n",
        "plt.xlabel('Price')\n",
        "plt.ylabel('Frequency')\n",
        "plt.title('Distribution of Discounted Prices vs. Actual Prices')\n",
        "plt.legend()\n",
        "plt.show()"
      ]
    },
    {
      "cell_type": "code",
      "execution_count": null,
      "id": "159d8a79-1b39-4107-9c69-672b50d042ec",
      "metadata": {
        "id": "159d8a79-1b39-4107-9c69-672b50d042ec",
        "outputId": "96ec37a4-24c9-44f8-cf2f-21ce027b89a4"
      },
      "outputs": [
        {
          "name": "stdout",
          "output_type": "stream",
          "text": [
            "\n",
            "Average Discount Percentage Across Categories:\n",
            "category\n",
            "Electronics|Headphones,Earbuds&Accessories|Earpads                                                              90.0\n",
            "Electronics|Mobiles&Accessories|MobileAccessories|Décor|PhoneCharms                                             90.0\n",
            "Computers&Accessories|Accessories&Peripherals|Keyboards,Mice&InputDevices|Keyboard&MiceAccessories|MousePads    87.0\n",
            "Computers&Accessories|Accessories&Peripherals|LaptopAccessories|NotebookComputerStands                          80.0\n",
            "Computers&Accessories|Components|InternalHardDrives                                                             80.0\n",
            "                                                                                                                ... \n",
            "Computers&Accessories|Accessories&Peripherals|USBGadgets|Lamps                                                  10.0\n",
            "Electronics|HomeAudio|MediaStreamingDevices|StreamingClients                                                     0.0\n",
            "Home&Kitchen|Kitchen&HomeAppliances|SmallKitchenAppliances|DigitalKitchenScales|DigitalScales                    0.0\n",
            "OfficeProducts|OfficePaperProducts|Paper|Copy&PrintingPaper|ColouredPaper                                        0.0\n",
            "OfficeProducts|OfficePaperProducts|Paper|Stationery|Notebooks,WritingPads&Diaries|CompositionNotebooks           0.0\n",
            "Name: discount_percentage, Length: 83, dtype: float64\n"
          ]
        }
      ],
      "source": [
        "# 4. Average discount percentage across categories\n",
        "average_discount = data_clean.groupby('category')['discount_percentage'].mean().sort_values(ascending=False)\n",
        "print(\"\\nAverage Discount Percentage Across Categories:\")\n",
        "print(average_discount)"
      ]
    },
    {
      "cell_type": "code",
      "execution_count": null,
      "id": "3e600933-ef09-42cf-9e78-a6dd0d6ed7b2",
      "metadata": {
        "id": "3e600933-ef09-42cf-9e78-a6dd0d6ed7b2",
        "outputId": "8207b775-9f2e-41f4-932c-4aa7037d0acf"
      },
      "outputs": [
        {
          "name": "stdout",
          "output_type": "stream",
          "text": [
            "\n",
            "Most Popular Product Names:\n",
            "                                           product_name  rating_count\n",
            "1279  Eureka Forbes car Vac 100 Watts Powerful Sucti...         992.0\n",
            "750        Eveready Red 1012 AAA Batteries - Pack of 10         989.0\n",
            "1059  Pigeon 1.5 litre Hot Kettle and Stainless Stee...         976.0\n",
            "32    Zoul USB C 60W Fast Charging 3A 6ft/2M Long Ty...         974.0\n",
            "151   Zoul USB Type C Fast Charging 3A Nylon Braided...         974.0\n",
            "823   Zoul USB C 60W Fast Charging 3A 6ft/2M Long Ty...         974.0\n",
            "1272  Bajaj New Shakti Neo Plus 15 Litre 4 Star Rate...         959.0\n",
            "1259  Hindware Atlantic Xceed 5L 3kW Instant Water H...         942.0\n",
            "214   Crypo™ Universal Remote Compatible with Tata S...         928.0\n",
            "1262  iBELL Castor CTEK15L Premium 1.5 Litre Stainle...         925.0\n"
          ]
        }
      ],
      "source": [
        "# 5. Most popular product names\n",
        "most_popular_products = data_clean.nlargest(10, 'rating_count')[['product_name', 'rating_count']]\n",
        "print(\"\\nMost Popular Product Names:\")\n",
        "print(most_popular_products)\n"
      ]
    },
    {
      "cell_type": "code",
      "execution_count": null,
      "id": "d4d11d21-61dd-4112-9000-019bb017d2b5",
      "metadata": {
        "id": "d4d11d21-61dd-4112-9000-019bb017d2b5",
        "outputId": "74ef007b-c7d9-4394-9f45-c4d25abb01ce"
      },
      "outputs": [
        {
          "name": "stdout",
          "output_type": "stream",
          "text": [
            "\n",
            "Most Popular Product Keywords:\n",
            "[('for', 183), ('with', 149), ('&', 95), ('and', 75), ('Cable', 74), ('USB', 72), ('|', 71), ('Remote', 64), ('C', 63), ('Compatible', 63)]\n"
          ]
        }
      ],
      "source": [
        "# 6. Most popular product keywords\n",
        "all_keywords = ' '.join(data_clean['product_name'].dropna()).split()\n",
        "keyword_counts = Counter(all_keywords).most_common(10)\n",
        "print(\"\\nMost Popular Product Keywords:\")\n",
        "print(keyword_counts)"
      ]
    },
    {
      "cell_type": "code",
      "execution_count": null,
      "id": "c3fc38bb-96d4-47cd-a4b2-1b02910ec7f6",
      "metadata": {
        "id": "c3fc38bb-96d4-47cd-a4b2-1b02910ec7f6",
        "outputId": "f134e68a-040f-4d5a-ad9f-b7472b27c230"
      },
      "outputs": [
        {
          "name": "stdout",
          "output_type": "stream",
          "text": [
            "\n",
            "Most Popular Product Reviews:\n",
            "                                           review_title  \\\n",
            "1279  Decent product,doesn't pick up sand,Ok ok,Must...   \n",
            "750   Nice .,very good batteries received,Longtevity...   \n",
            "1059  Kettle is good but bottle is not good quality,...   \n",
            "32    Great Cable, Charging Speeds Could Be Better,G...   \n",
            "151   Great Cable, Charging Speeds Could Be Better,G...   \n",
            "823   Great Cable, Charging Speeds Could Be Better,G...   \n",
            "1272  Ok,A good water heater,Easy to use inverter,Go...   \n",
            "1259  Good product but pipes/installation/plug not i...   \n",
            "214   Good compatibility,Good Product,Good nice serv...   \n",
            "1262  It’s a good product in this price.,Nice produc...   \n",
            "\n",
            "                                         review_content  rating_count  \n",
            "1279  Does the job well,doesn't work on sand. though...         992.0  \n",
            "750   Nive,very good batteries received,Like,Good pr...         989.0  \n",
            "1059  Bottle quality is not good.,Best for hot water...         976.0  \n",
            "32    Not charging as fast as I'd have expected. May...         974.0  \n",
            "151   Not charging as fast as I'd have expected. May...         974.0  \n",
            "823   Not charging as fast as I'd have expected. May...         974.0  \n",
            "1272  Ok,The product works very well. The support is...         959.0  \n",
            "1259  I bought 5ltr 3kw model 10 days before Provide...         942.0  \n",
            "214   The remote works well and is pleasantly compat...         928.0  \n",
            "1262  It’s a good product and I’m using it since 1 w...         925.0  \n"
          ]
        }
      ],
      "source": [
        "# 7. Most popular product reviews\n",
        "most_popular_reviews = data_clean.nlargest(10, 'rating_count')[['review_title', 'review_content', 'rating_count']]\n",
        "print(\"\\nMost Popular Product Reviews:\")\n",
        "print(most_popular_reviews)"
      ]
    },
    {
      "cell_type": "code",
      "execution_count": null,
      "id": "09c9a0ce-45d0-4462-bdc4-743cbb59410d",
      "metadata": {
        "id": "09c9a0ce-45d0-4462-bdc4-743cbb59410d",
        "outputId": "861e6118-d90d-48c8-bf4f-06625224325f"
      },
      "outputs": [
        {
          "name": "stdout",
          "output_type": "stream",
          "text": [
            "\n",
            "Correlation Between Discounted Price and Rating: 0.08151967980593874\n"
          ]
        }
      ],
      "source": [
        "# 8. Correlation between discounted price and rating\n",
        "correlation = data_clean['discounted_price'].corr(data_clean['rating'])\n",
        "print(f\"\\nCorrelation Between Discounted Price and Rating: {correlation}\")\n"
      ]
    },
    {
      "cell_type": "code",
      "execution_count": null,
      "id": "86460588-a0e8-4ec5-948f-bba7f3ce6843",
      "metadata": {
        "id": "86460588-a0e8-4ec5-948f-bba7f3ce6843",
        "outputId": "dab3ee60-2222-42b3-bf2d-a9f2594e7e61"
      },
      "outputs": [
        {
          "name": "stdout",
          "output_type": "stream",
          "text": [
            "\n",
            "Low-Rated Products That May Need Improvement:\n",
            "                                               category  \\\n",
            "545         Electronics|WearableTechnology|SmartWatches   \n",
            "1243  Home&Kitchen|Kitchen&HomeAppliances|SmallKitch...   \n",
            "1286  Home&Kitchen|Kitchen&HomeAppliances|SmallKitch...   \n",
            "1309  Home&Kitchen|Heating,Cooling&AirQuality|RoomHe...   \n",
            "1356  Home&Kitchen|Kitchen&HomeAppliances|SmallKitch...   \n",
            "1449  Home&Kitchen|Kitchen&HomeAppliances|WaterPurif...   \n",
            "\n",
            "                                           product_name  rating  rating_count  \n",
            "545   SHREENOVA ID116 Plus Bluetooth Fitness Smart W...     2.8          87.0  \n",
            "1243  Personal Size Blender, Portable Blender, Batte...     2.3          13.0  \n",
            "1286  MR. BRAND Portable USB Juicer Electric USB Jui...     2.8         109.0  \n",
            "1309  Khaitan ORFin Fan heater for Home and kitchen-...     2.0           2.0  \n",
            "1356  Green Tales Heat Seal Mini Food Sealer-Impulse...     2.6          24.0  \n",
            "1449  IONIX Tap filter Multilayer | Activated Carbon...     2.9         159.0  \n"
          ]
        }
      ],
      "source": [
        "# 10. Identify potential areas for improvement\n",
        "low_rated_products = data_clean[data_clean['rating'] < 3.0][['category', 'product_name', 'rating', 'rating_count']]\n",
        "print(\"\\nLow-Rated Products That May Need Improvement:\")\n",
        "print(low_rated_products)"
      ]
    },
    {
      "cell_type": "code",
      "execution_count": null,
      "id": "f66f67ec-4c41-423e-8076-592350ab05d7",
      "metadata": {
        "id": "f66f67ec-4c41-423e-8076-592350ab05d7"
      },
      "outputs": [],
      "source": []
    }
  ],
  "metadata": {
    "kernelspec": {
      "display_name": "Python 3 (ipykernel)",
      "language": "python",
      "name": "python3"
    },
    "language_info": {
      "codemirror_mode": {
        "name": "ipython",
        "version": 3
      },
      "file_extension": ".py",
      "mimetype": "text/x-python",
      "name": "python",
      "nbconvert_exporter": "python",
      "pygments_lexer": "ipython3",
      "version": "3.13.1"
    },
    "colab": {
      "provenance": []
    }
  },
  "nbformat": 4,
  "nbformat_minor": 5
}